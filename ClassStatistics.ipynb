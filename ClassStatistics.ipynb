{
 "cells": [
  {
   "cell_type": "code",
   "execution_count": 20,
   "metadata": {
    "collapsed": false
   },
   "outputs": [
    {
     "data": {
      "text/html": [
       "<table>\n",
       "<thead><tr><th></th><th scope=col>scp</th><th scope=col>grep</th><th scope=col>awk</th><th scope=col>ssh</th><th scope=col>|</th><th scope=col>R</th><th scope=col>python</th><th scope=col>perl</th><th scope=col>java</th><th scope=col>BWA</th><th scope=col>bowtie</th><th scope=col>tophat</th><th scope=col>velvet</th><th scope=col>samtools</th><th scope=col>VarScan</th><th scope=col>QIIME</th></tr></thead>\n",
       "<tbody>\n",
       "\t<tr><th scope=row>1</th><td>1</td><td>4</td><td>3</td><td>4</td><td>1</td><td>2</td><td>4</td><td>2</td><td>4</td><td>0</td><td>0</td><td>0</td><td>0</td><td>0</td><td>0</td><td>0</td></tr>\n",
       "\t<tr><th scope=row>2</th><td>5</td><td>5</td><td>4</td><td>4</td><td>5</td><td>3</td><td>5</td><td>2</td><td>5</td><td>4</td><td>4</td><td>2</td><td>1</td><td>4</td><td>1</td><td>1</td></tr>\n",
       "\t<tr><th scope=row>3</th><td>2</td><td>5</td><td>1</td><td>5</td><td>3</td><td>5</td><td>5</td><td>2</td><td>5</td><td>1</td><td>3</td><td>3</td><td>2</td><td>2</td><td>2</td><td>2</td></tr>\n",
       "\t<tr><th scope=row>4</th><td>4</td><td>4</td><td>4</td><td>5</td><td>2</td><td>3</td><td>5</td><td>2</td><td>5</td><td>4</td><td>5</td><td>5</td><td>2</td><td>5</td><td>4</td><td>2</td></tr>\n",
       "\t<tr><th scope=row>5</th><td>3</td><td>3</td><td>3</td><td>3</td><td>3</td><td>3</td><td>5</td><td>1</td><td>5</td><td>1</td><td>2</td><td>2</td><td>1</td><td>1</td><td>1</td><td>1</td></tr>\n",
       "\t<tr><th scope=row>6</th><td>2</td><td>5</td><td>4</td><td>5</td><td>5</td><td>3</td><td>3</td><td>3</td><td>5</td><td>1</td><td>3</td><td>3</td><td>2</td><td>3</td><td>1</td><td>1</td></tr>\n",
       "</tbody>\n",
       "</table>\n"
      ],
      "text/latex": [
       "\\begin{tabular}{r|llllllllllllllll}\n",
       "  & scp & grep & awk & ssh & | & R & python & perl & java & BWA & bowtie & tophat & velvet & samtools & VarScan & QIIME\\\\\n",
       "\\hline\n",
       "\t1 & 1 & 4 & 3 & 4 & 1 & 2 & 4 & 2 & 4 & 0 & 0 & 0 & 0 & 0 & 0 & 0\\\\\n",
       "\t2 & 5 & 5 & 4 & 4 & 5 & 3 & 5 & 2 & 5 & 4 & 4 & 2 & 1 & 4 & 1 & 1\\\\\n",
       "\t3 & 2 & 5 & 1 & 5 & 3 & 5 & 5 & 2 & 5 & 1 & 3 & 3 & 2 & 2 & 2 & 2\\\\\n",
       "\t4 & 4 & 4 & 4 & 5 & 2 & 3 & 5 & 2 & 5 & 4 & 5 & 5 & 2 & 5 & 4 & 2\\\\\n",
       "\t5 & 3 & 3 & 3 & 3 & 3 & 3 & 5 & 1 & 5 & 1 & 2 & 2 & 1 & 1 & 1 & 1\\\\\n",
       "\t6 & 2 & 5 & 4 & 5 & 5 & 3 & 3 & 3 & 5 & 1 & 3 & 3 & 2 & 3 & 1 & 1\\\\\n",
       "\\end{tabular}\n"
      ],
      "text/plain": [
       "  scp grep awk ssh | R python perl java BWA bowtie tophat velvet samtools\n",
       "1   1    4   3   4 1 2      4    2    4   0      0      0      0        0\n",
       "2   5    5   4   4 5 3      5    2    5   4      4      2      1        4\n",
       "3   2    5   1   5 3 5      5    2    5   1      3      3      2        2\n",
       "4   4    4   4   5 2 3      5    2    5   4      5      5      2        5\n",
       "5   3    3   3   3 3 3      5    1    5   1      2      2      1        1\n",
       "6   2    5   4   5 5 3      3    3    5   1      3      3      2        3\n",
       "  VarScan QIIME\n",
       "1       0     0\n",
       "2       1     1\n",
       "3       2     2\n",
       "4       4     2\n",
       "5       1     1\n",
       "6       1     1"
      ]
     },
     "execution_count": 20,
     "metadata": {},
     "output_type": "execute_result"
    }
   ],
   "source": [
    "library(\"ggplot2\")\n",
    "classData=read.csv(\"Class Statistics - Sheet1.csv\")\n",
    "colnames(classData)=c(\"scp\",\"grep\",\"awk\",\"ssh\",\"|\",\"R\",\"python\",\"perl\",\"java\",\"BWA\",\"bowtie\",\"tophat\",\"velvet\",\"samtools\",\"VarScan\",\"QIIME\")\n",
    "allcolumns=colnames(classData)\n",
    "head(classData)"
   ]
  },
  {
   "cell_type": "code",
   "execution_count": 4,
   "metadata": {
    "collapsed": false
   },
   "outputs": [
    {
     "ename": "ERROR",
     "evalue": "Error: StatBin requires a continuous x variable the x variable is discrete. Perhaps you want stat=\"count\"?\n",
     "output_type": "error",
     "traceback": [
      "Error: StatBin requires a continuous x variable the x variable is discrete. Perhaps you want stat=\"count\"?\n"
     ]
    },
    {
     "data": {
      "text/html": [
       "<strong>pdf:</strong> 2"
      ],
      "text/latex": [
       "\\textbf{pdf:} 2"
      ],
      "text/markdown": [
       "**pdf:** 2"
      ],
      "text/plain": [
       "pdf \n",
       "  2 "
      ]
     },
     "execution_count": 4,
     "metadata": {},
     "output_type": "execute_result"
    }
   ],
   "source": [
    "pdf(\"ClassStatistics.pdf\")\n",
    "lapply(1:ncol(classData), function(i){\n",
    "   p=qplot(classData[,i], geom=\"histogram\", xlab=\"Response\", main=allcolumns[i], binwidth=0.5) \n",
    "   p+annotate()\n",
    "});\n",
    "dev.off()"
   ]
  },
  {
   "cell_type": "code",
   "execution_count": 3,
   "metadata": {
    "collapsed": false
   },
   "outputs": [
    {
     "data": {
      "text/html": [
       "4"
      ],
      "text/latex": [
       "4"
      ],
      "text/markdown": [
       "4"
      ],
      "text/plain": [
       "[1] 4"
      ]
     },
     "execution_count": 3,
     "metadata": {},
     "output_type": "execute_result"
    },
    {
     "ename": "ERROR",
     "evalue": "Error in factor(classData[, 4], labels = c(\"A\", \"B\", \"C\", \"D\", \"E\")): invalid 'labels'; length 5 should be 1 or 4\n",
     "output_type": "error",
     "traceback": [
      "Error in factor(classData[, 4], labels = c(\"A\", \"B\", \"C\", \"D\", \"E\")): invalid 'labels'; length 5 should be 1 or 4\n"
     ]
    }
   ],
   "source": [
    "length(unique(classData[,4]))\n",
    "factor(classData[,4], labels=c(\"A\",\"B\",\"C\",\"D\",\"E\"))"
   ]
  },
  {
   "cell_type": "code",
   "execution_count": null,
   "metadata": {
    "collapsed": true
   },
   "outputs": [],
   "source": []
  }
 ],
 "metadata": {
  "kernelspec": {
   "display_name": "R",
   "language": "R",
   "name": "ir"
  },
  "language_info": {
   "codemirror_mode": "r",
   "file_extension": ".r",
   "mimetype": "text/x-r-source",
   "name": "R",
   "pygments_lexer": "r",
   "version": "3.2.3"
  }
 },
 "nbformat": 4,
 "nbformat_minor": 0
}
