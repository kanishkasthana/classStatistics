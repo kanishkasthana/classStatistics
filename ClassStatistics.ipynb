{
 "cells": [
  {
   "cell_type": "code",
   "execution_count": 1,
   "metadata": {
    "collapsed": false
   },
   "outputs": [
    {
     "data": {
      "text/html": [
       "<table>\n",
       "<thead><tr><th></th><th scope=col>scp</th><th scope=col>grep</th><th scope=col>awk</th><th scope=col>ssh</th><th scope=col>|</th><th scope=col>R</th><th scope=col>python</th><th scope=col>perl</th><th scope=col>java</th><th scope=col>BWA</th><th scope=col>bowtie</th><th scope=col>tophat</th><th scope=col>velvet</th><th scope=col>samtools</th><th scope=col>VarScan</th><th scope=col>QIIME</th></tr></thead>\n",
       "<tbody>\n",
       "\t<tr><th scope=row>1</th><td>1</td><td>4</td><td>3</td><td>4</td><td>1</td><td>2</td><td>4</td><td>2</td><td>4</td><td>0</td><td>0</td><td>0</td><td>0</td><td>0</td><td>0</td><td>0</td></tr>\n",
       "\t<tr><th scope=row>2</th><td>5</td><td>5</td><td>4</td><td>4</td><td>5</td><td>3</td><td>5</td><td>2</td><td>5</td><td>4</td><td>4</td><td>2</td><td>1</td><td>4</td><td>1</td><td>1</td></tr>\n",
       "\t<tr><th scope=row>3</th><td>2</td><td>5</td><td>1</td><td>5</td><td>3</td><td>5</td><td>5</td><td>2</td><td>5</td><td>1</td><td>3</td><td>3</td><td>2</td><td>2</td><td>2</td><td>2</td></tr>\n",
       "\t<tr><th scope=row>4</th><td>4</td><td>4</td><td>4</td><td>5</td><td>2</td><td>3</td><td>5</td><td>2</td><td>5</td><td>4</td><td>5</td><td>5</td><td>2</td><td>5</td><td>4</td><td>2</td></tr>\n",
       "\t<tr><th scope=row>5</th><td>3</td><td>3</td><td>3</td><td>3</td><td>3</td><td>3</td><td>5</td><td>1</td><td>5</td><td>1</td><td>2</td><td>2</td><td>1</td><td>1</td><td>1</td><td>1</td></tr>\n",
       "\t<tr><th scope=row>6</th><td>2</td><td>5</td><td>4</td><td>5</td><td>5</td><td>3</td><td>3</td><td>3</td><td>5</td><td>1</td><td>3</td><td>3</td><td>2</td><td>3</td><td>1</td><td>1</td></tr>\n",
       "</tbody>\n",
       "</table>\n"
      ],
      "text/latex": [
       "\\begin{tabular}{r|llllllllllllllll}\n",
       "  & scp & grep & awk & ssh & | & R & python & perl & java & BWA & bowtie & tophat & velvet & samtools & VarScan & QIIME\\\\\n",
       "\\hline\n",
       "\t1 & 1 & 4 & 3 & 4 & 1 & 2 & 4 & 2 & 4 & 0 & 0 & 0 & 0 & 0 & 0 & 0\\\\\n",
       "\t2 & 5 & 5 & 4 & 4 & 5 & 3 & 5 & 2 & 5 & 4 & 4 & 2 & 1 & 4 & 1 & 1\\\\\n",
       "\t3 & 2 & 5 & 1 & 5 & 3 & 5 & 5 & 2 & 5 & 1 & 3 & 3 & 2 & 2 & 2 & 2\\\\\n",
       "\t4 & 4 & 4 & 4 & 5 & 2 & 3 & 5 & 2 & 5 & 4 & 5 & 5 & 2 & 5 & 4 & 2\\\\\n",
       "\t5 & 3 & 3 & 3 & 3 & 3 & 3 & 5 & 1 & 5 & 1 & 2 & 2 & 1 & 1 & 1 & 1\\\\\n",
       "\t6 & 2 & 5 & 4 & 5 & 5 & 3 & 3 & 3 & 5 & 1 & 3 & 3 & 2 & 3 & 1 & 1\\\\\n",
       "\\end{tabular}\n"
      ],
      "text/plain": [
       "  scp grep awk ssh | R python perl java BWA bowtie tophat velvet samtools\n",
       "1   1    4   3   4 1 2      4    2    4   0      0      0      0        0\n",
       "2   5    5   4   4 5 3      5    2    5   4      4      2      1        4\n",
       "3   2    5   1   5 3 5      5    2    5   1      3      3      2        2\n",
       "4   4    4   4   5 2 3      5    2    5   4      5      5      2        5\n",
       "5   3    3   3   3 3 3      5    1    5   1      2      2      1        1\n",
       "6   2    5   4   5 5 3      3    3    5   1      3      3      2        3\n",
       "  VarScan QIIME\n",
       "1       0     0\n",
       "2       1     1\n",
       "3       2     2\n",
       "4       4     2\n",
       "5       1     1\n",
       "6       1     1"
      ]
     },
     "execution_count": 1,
     "metadata": {},
     "output_type": "execute_result"
    }
   ],
   "source": [
    "library(\"ggplot2\")\n",
    "classData=read.csv(\"Class Statistics - Sheet1.csv\")\n",
    "colnames(classData)=c(\"scp\",\"grep\",\"awk\",\"ssh\",\"|\",\"R\",\"python\",\"perl\",\"java\",\"BWA\",\"bowtie\",\"tophat\",\"velvet\",\"samtools\",\"VarScan\",\"QIIME\")\n",
    "allcolumns=colnames(classData)\n",
    "head(classData)"
   ]
  },
  {
   "cell_type": "code",
   "execution_count": 2,
   "metadata": {
    "collapsed": false
   },
   "outputs": [
    {
     "data": {
      "text/html": [
       "<ol>\n",
       "\t<li>NULL</li>\n",
       "\t<li>NULL</li>\n",
       "\t<li>NULL</li>\n",
       "\t<li>NULL</li>\n",
       "\t<li>NULL</li>\n",
       "\t<li>NULL</li>\n",
       "\t<li>NULL</li>\n",
       "\t<li>NULL</li>\n",
       "\t<li>NULL</li>\n",
       "\t<li>NULL</li>\n",
       "\t<li>NULL</li>\n",
       "\t<li>NULL</li>\n",
       "\t<li>NULL</li>\n",
       "\t<li>NULL</li>\n",
       "\t<li>NULL</li>\n",
       "\t<li>NULL</li>\n",
       "</ol>\n"
      ],
      "text/latex": [
       "\\begin{enumerate}\n",
       "\\item NULL\n",
       "\\item NULL\n",
       "\\item NULL\n",
       "\\item NULL\n",
       "\\item NULL\n",
       "\\item NULL\n",
       "\\item NULL\n",
       "\\item NULL\n",
       "\\item NULL\n",
       "\\item NULL\n",
       "\\item NULL\n",
       "\\item NULL\n",
       "\\item NULL\n",
       "\\item NULL\n",
       "\\item NULL\n",
       "\\item NULL\n",
       "\\end{enumerate}\n"
      ],
      "text/markdown": [
       "1. NULL\n",
       "2. NULL\n",
       "3. NULL\n",
       "4. NULL\n",
       "5. NULL\n",
       "6. NULL\n",
       "7. NULL\n",
       "8. NULL\n",
       "9. NULL\n",
       "10. NULL\n",
       "11. NULL\n",
       "12. NULL\n",
       "13. NULL\n",
       "14. NULL\n",
       "15. NULL\n",
       "16. NULL\n",
       "\n",
       "\n"
      ],
      "text/plain": [
       "[[1]]\n",
       "\n",
       "[[2]]\n",
       "\n",
       "[[3]]\n",
       "\n",
       "[[4]]\n",
       "\n",
       "[[5]]\n",
       "\n",
       "[[6]]\n",
       "\n",
       "[[7]]\n",
       "\n",
       "[[8]]\n",
       "\n",
       "[[9]]\n",
       "\n",
       "[[10]]\n",
       "\n",
       "[[11]]\n",
       "\n",
       "[[12]]\n",
       "\n",
       "[[13]]\n",
       "\n",
       "[[14]]\n",
       "\n",
       "[[15]]\n",
       "\n",
       "[[16]]\n"
      ]
     },
     "execution_count": 2,
     "metadata": {},
     "output_type": "execute_result"
    },
    {
     "data": {
      "text/html": [
       "<strong>pdf:</strong> 2"
      ],
      "text/latex": [
       "\\textbf{pdf:} 2"
      ],
      "text/markdown": [
       "**pdf:** 2"
      ],
      "text/plain": [
       "pdf \n",
       "  2 "
      ]
     },
     "execution_count": 2,
     "metadata": {},
     "output_type": "execute_result"
    }
   ],
   "source": [
    "pdf(\"ClassStatistics.pdf\")\n",
    "lapply(1:ncol(classData), function(i){\n",
    "   p=qplot(classData[,i], geom=\"histogram\", xlab=\"Response\", main=allcolumns[i], binwidth=0.5) \n",
    "});\n",
    "dev.off()"
   ]
  }
 ],
 "metadata": {
  "kernelspec": {
   "display_name": "R",
   "language": "R",
   "name": "ir"
  },
  "language_info": {
   "codemirror_mode": "r",
   "file_extension": ".r",
   "mimetype": "text/x-r-source",
   "name": "R",
   "pygments_lexer": "r",
   "version": "3.2.3"
  }
 },
 "nbformat": 4,
 "nbformat_minor": 0
}
